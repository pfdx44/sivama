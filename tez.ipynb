{
 "cells": [
  {
   "cell_type": "code",
   "execution_count": 1,
   "metadata": {},
   "outputs": [
    {
     "name": "stderr",
     "output_type": "stream",
     "text": [
      "C:\\Users\\ayses\\Anaconda3\\lib\\site-packages\\h5py\\__init__.py:34: FutureWarning: Conversion of the second argument of issubdtype from `float` to `np.floating` is deprecated. In future, it will be treated as `np.float64 == np.dtype(float).type`.\n",
      "  from ._conv import register_converters as _register_converters\n",
      "Using TensorFlow backend.\n"
     ]
    }
   ],
   "source": [
    "from keras.models import Sequential\n",
    "from keras.layers import Activation, Dense, MaxPooling1D, Flatten\n",
    "from keras.layers.convolutional import Conv1D\n",
    "from keras.layers.normalization import BatchNormalization\n",
    "import numpy\n",
    "import sys\n",
    "from matplotlib import pyplot"
   ]
  },
  {
   "cell_type": "code",
   "execution_count": 2,
   "metadata": {},
   "outputs": [
    {
     "name": "stdout",
     "output_type": "stream",
     "text": [
      "(7451, 1200, 1)\n",
      "(7451, 1200)\n",
      "data loaded\n"
     ]
    }
   ],
   "source": [
    "\n",
    "# fix random seed for reproducibility\n",
    "numpy.random.seed(7)\n",
    "\n",
    "# load input dataset\n",
    "dataset = numpy.loadtxt(\"tez_input_data.data\", delimiter=\",\")\n",
    "\n",
    "# split into input (X) variables\n",
    "#InputValues = dataset.T\n",
    "InputValues = dataset\n",
    "nrows, ncols = InputValues.shape\n",
    "InputValues = InputValues.reshape(nrows, ncols, 1)\n",
    "print(InputValues.shape)\n",
    "\n",
    "# load output dataset\n",
    "dataset = numpy.loadtxt(\"tez_output_data.data\", delimiter=\",\")\n",
    "#OutputValues = dataset.T\n",
    "OutputValues = dataset\n",
    "nrows, ncols = OutputValues.shape\n",
    "OutputValues = OutputValues.reshape(nrows, ncols)\n",
    "print(OutputValues.shape)\n",
    "\n",
    "print(\"data loaded\")\n",
    "\n"
   ]
  },
  {
   "cell_type": "code",
   "execution_count": 3,
   "metadata": {},
   "outputs": [
    {
     "name": "stdout",
     "output_type": "stream",
     "text": [
      "WARNING:tensorflow:From C:\\Users\\ayses\\Anaconda3\\lib\\site-packages\\tensorflow\\python\\framework\\op_def_library.py:263: colocate_with (from tensorflow.python.framework.ops) is deprecated and will be removed in a future version.\n",
      "Instructions for updating:\n",
      "Colocations handled automatically by placer.\n",
      "_________________________________________________________________\n",
      "Layer (type)                 Output Shape              Param #   \n",
      "=================================================================\n",
      "conv1d_1 (Conv1D)            (None, 1200, 50)          200       \n",
      "_________________________________________________________________\n",
      "batch_normalization_1 (Batch (None, 1200, 50)          200       \n",
      "_________________________________________________________________\n",
      "activation_1 (Activation)    (None, 1200, 50)          0         \n",
      "_________________________________________________________________\n",
      "max_pooling1d_1 (MaxPooling1 (None, 1200, 50)          0         \n",
      "_________________________________________________________________\n",
      "conv1d_2 (Conv1D)            (None, 1200, 50)          2550      \n",
      "_________________________________________________________________\n",
      "batch_normalization_2 (Batch (None, 1200, 50)          200       \n",
      "_________________________________________________________________\n",
      "activation_2 (Activation)    (None, 1200, 50)          0         \n",
      "_________________________________________________________________\n",
      "max_pooling1d_2 (MaxPooling1 (None, 1200, 50)          0         \n",
      "_________________________________________________________________\n",
      "conv1d_3 (Conv1D)            (None, 1200, 50)          2550      \n",
      "_________________________________________________________________\n",
      "batch_normalization_3 (Batch (None, 1200, 50)          200       \n",
      "_________________________________________________________________\n",
      "activation_3 (Activation)    (None, 1200, 50)          0         \n",
      "_________________________________________________________________\n",
      "max_pooling1d_3 (MaxPooling1 (None, 1200, 50)          0         \n",
      "_________________________________________________________________\n",
      "flatten_1 (Flatten)          (None, 60000)             0         \n",
      "_________________________________________________________________\n",
      "dense_1 (Dense)              (None, 200)               12000200  \n",
      "_________________________________________________________________\n",
      "dense_2 (Dense)              (None, 1200)              241200    \n",
      "=================================================================\n",
      "Total params: 12,247,300\n",
      "Trainable params: 12,247,000\n",
      "Non-trainable params: 300\n",
      "_________________________________________________________________\n"
     ]
    }
   ],
   "source": [
    "model = Sequential()\n",
    "\n",
    "model.add(Conv1D(kernel_size = 3, filters = 50, input_shape=(1200,1), padding='same'))\n",
    "model.add(BatchNormalization())\n",
    "model.add(Activation('relu'))\n",
    "model.add(MaxPooling1D(1, padding='same'))\n",
    "\n",
    "#c2\n",
    "model.add(Conv1D(kernel_size = (1), filters = 50))\n",
    "model.add(BatchNormalization())\n",
    "model.add(Activation('relu'))\n",
    "model.add(MaxPooling1D(1, padding='same'))\n",
    "\n",
    "#c3\n",
    "model.add(Conv1D(kernel_size = (1), filters = 50))\n",
    "model.add(BatchNormalization())\n",
    "model.add(Activation('relu'))\n",
    "model.add(MaxPooling1D(1, padding='same'))\n",
    "\n",
    "model.add(Flatten())\n",
    "\n",
    "model.add(Dense(200, activation='relu'))\n",
    "model.add(Dense(1200, activation='softmax'))\n",
    "\n",
    "model.compile(loss='binary_crossentropy', optimizer='adam', metrics=['accuracy'])\n",
    "model.summary()\n"
   ]
  },
  {
   "cell_type": "code",
   "execution_count": 4,
   "metadata": {},
   "outputs": [
    {
     "name": "stdout",
     "output_type": "stream",
     "text": [
      "running\n",
      "WARNING:tensorflow:From C:\\Users\\ayses\\Anaconda3\\lib\\site-packages\\tensorflow\\python\\ops\\math_ops.py:3066: to_int32 (from tensorflow.python.ops.math_ops) is deprecated and will be removed in a future version.\n",
      "Instructions for updating:\n",
      "Use tf.cast instead.\n",
      "Epoch 1/20\n",
      " - 145s - loss: 0.0931 - acc: 0.9821\n",
      "Epoch 2/20\n",
      " - 145s - loss: 0.0861 - acc: 0.9821\n",
      "Epoch 3/20\n",
      " - 147s - loss: 0.0836 - acc: 0.9821\n",
      "Epoch 4/20\n",
      " - 145s - loss: 0.0821 - acc: 0.9821\n",
      "Epoch 5/20\n",
      " - 145s - loss: 0.0810 - acc: 0.9821\n",
      "Epoch 6/20\n",
      " - 144s - loss: 0.0798 - acc: 0.9821\n",
      "Epoch 7/20\n",
      " - 143s - loss: 0.0788 - acc: 0.9821\n",
      "Epoch 8/20\n",
      " - 144s - loss: 0.0779 - acc: 0.9821\n",
      "Epoch 9/20\n",
      " - 144s - loss: 0.0771 - acc: 0.9821\n",
      "Epoch 10/20\n",
      " - 144s - loss: 0.0764 - acc: 0.9821\n",
      "Epoch 11/20\n",
      " - 144s - loss: 0.0758 - acc: 0.9821\n",
      "Epoch 12/20\n",
      " - 143s - loss: 0.0752 - acc: 0.9821\n",
      "Epoch 13/20\n",
      " - 143s - loss: 0.0749 - acc: 0.9821\n",
      "Epoch 14/20\n",
      " - 146s - loss: 0.0743 - acc: 0.9821\n",
      "Epoch 15/20\n",
      " - 151s - loss: 0.0740 - acc: 0.9821\n",
      "Epoch 16/20\n",
      " - 148s - loss: 0.0737 - acc: 0.9821\n",
      "Epoch 17/20\n",
      " - 149s - loss: 0.0735 - acc: 0.9821\n",
      "Epoch 18/20\n",
      " - 149s - loss: 0.0732 - acc: 0.9821\n",
      "Epoch 19/20\n",
      " - 150s - loss: 0.0730 - acc: 0.9821\n",
      "Epoch 20/20\n",
      " - 144s - loss: 0.0728 - acc: 0.9821\n",
      "7451/7451 [==============================] - 15s 2ms/step\n",
      "\n",
      "evaluate -> acc: 98.21%\n"
     ]
    }
   ],
   "source": [
    "print(\"running\")\n",
    "\n",
    "# Fit the model\n",
    "history = model.fit(InputValues, OutputValues, epochs=20, batch_size=10, verbose=2)\n",
    "\n",
    "\n",
    "# evaluate the model\n",
    "scores = model.evaluate(InputValues, OutputValues)\n",
    "print(\"\\nevaluate -> %s: %.2f%%\" % (model.metrics_names[1], scores[1]*100))\n",
    "\n"
   ]
  },
  {
   "cell_type": "code",
   "execution_count": 5,
   "metadata": {},
   "outputs": [
    {
     "name": "stdout",
     "output_type": "stream",
     "text": [
      "dict_keys(['loss', 'acc'])\n"
     ]
    },
    {
     "data": {
      "image/png": "[encoded data removed]",
      "text/plain": [
       "<matplotlib.figure.Figure at 0x1701c04ceb8>"
      ]
     },
     "metadata": {},
     "output_type": "display_data"
    }
   ],
   "source": [
    "print(history.history.keys())\n",
    "\n",
    "pyplot.plot(history.history['acc'])\n",
    "pyplot.show()"
   ]
  },
  {
   "cell_type": "code",
   "execution_count": null,
   "metadata": {},
   "outputs": [],
   "source": [
    "#test\n",
    "\n",
    "\n",
    "# load input dataset\n",
    "dataset = numpy.loadtxt(\"tez_input_testdata_1.data\", delimiter=\",\")\n",
    "\n",
    "# split into input (X) variables\n",
    "InputTestValues = dataset\n",
    "nrows, ncols = InputTestValues.shape\n",
    "InputTestValues = InputTestValues.reshape(nrows, ncols, 1)\n",
    "print(InputTestValues.shape)\n",
    "\n",
    "# load output dataset\n",
    "dataset = numpy.loadtxt(\"tez_output_testdata_1.data\", delimiter=\",\")\n",
    "OutputTestValues = dataset\n",
    "nrows, ncols = OutputTestValues.shape\n",
    "OutputTestValues = OutputTestValues.reshape(nrows, ncols)\n",
    "print(OutputTestValues.shape)\n",
    "\n",
    "print(\"test data loaded\")\n",
    "\n",
    "# calculate predictions\n",
    "predictions = model.predict(InputTestValues)\n",
    "\n",
    "result = numpy.zeros(shape=(nrows, ncols))\n",
    "print(result.shape)\n",
    "\n",
    "for j in range(len(predictions)):\n",
    "    for i in range(len(predictions[0])):\n",
    "        if predictions[j][i] * 100 > 1: \n",
    "            result[j][i] = 1\n",
    "        else:\n",
    "            result[j][i] = 0\n",
    "            \n",
    "\n",
    "for j in range(len(result)):\n",
    "    print(\"%d Y:%d R:%d\" % (OutputTestValues[j], result[j]))\n",
    "                    \n",
    "            \n",
    "numpy.savetxt(\"tez_predict_data.data\", result, fmt='%1d', delimiter='\\t', newline='\\n', header='', footer='', comments='# ', encoding=None)\n",
    "           \n"
   ]
  },
  {
   "cell_type": "code",
   "execution_count": null,
   "metadata": {},
   "outputs": [],
   "source": [
    "\n"
   ]
  }
 ],
 "metadata": {
  "kernelspec": {
   "display_name": "Python 3",
   "language": "python",
   "name": "python3"
  },
  "language_info": {
   "codemirror_mode": {
    "name": "ipython",
    "version": 3
   },
   "file_extension": ".py",
   "mimetype": "text/x-python",
   "name": "python",
   "nbconvert_exporter": "python",
   "pygments_lexer": "ipython3",
   "version": "3.6.1"
  }
 },
 "nbformat": 4,
 "nbformat_minor": 2
}
