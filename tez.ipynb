{
 "cells": [
  {
   "cell_type": "code",
   "execution_count": 1,
   "metadata": {},
   "outputs": [
    {
     "name": "stderr",
     "output_type": "stream",
     "text": [
      "C:\\Users\\ayses\\Anaconda3\\lib\\site-packages\\h5py\\__init__.py:34: FutureWarning: Conversion of the second argument of issubdtype from `float` to `np.floating` is deprecated. In future, it will be treated as `np.float64 == np.dtype(float).type`.\n",
      "  from ._conv import register_converters as _register_converters\n",
      "Using TensorFlow backend.\n"
     ]
    }
   ],
   "source": [
    "from keras.models import Sequential\n",
    "from keras.layers import Activation, Dense, MaxPooling1D, Flatten\n",
    "from keras.layers.convolutional import Conv1D\n",
    "from keras.layers.normalization import BatchNormalization\n",
    "import numpy\n",
    "import sys\n",
    "from matplotlib import pyplot"
   ]
  },
  {
   "cell_type": "code",
   "execution_count": 2,
   "metadata": {},
   "outputs": [
    {
     "name": "stdout",
     "output_type": "stream",
     "text": [
      "(7451, 1200, 1)\n",
      "(7451, 1200)\n",
      "data loaded\n"
     ]
    }
   ],
   "source": [
    "\n",
    "# fix random seed for reproducibility\n",
    "numpy.random.seed(7)\n",
    "\n",
    "# load input dataset\n",
    "dataset = numpy.loadtxt(\"tez_input_data.data\", delimiter=\",\")\n",
    "\n",
    "# split into input (X) variables\n",
    "#InputValues = dataset.T\n",
    "InputValues = dataset\n",
    "nrows, ncols = InputValues.shape\n",
    "InputValues = InputValues.reshape(nrows, ncols, 1)\n",
    "print(InputValues.shape)\n",
    "\n",
    "# load output dataset\n",
    "dataset = numpy.loadtxt(\"tez_output_data.data\", delimiter=\",\")\n",
    "#OutputValues = dataset.T\n",
    "OutputValues = dataset\n",
    "nrows, ncols = OutputValues.shape\n",
    "OutputValues = OutputValues.reshape(nrows, ncols)\n",
    "print(OutputValues.shape)\n",
    "\n",
    "print(\"data loaded\")\n",
    "\n"
   ]
  },
  {
   "cell_type": "code",
   "execution_count": 3,
   "metadata": {},
   "outputs": [
    {
     "name": "stdout",
     "output_type": "stream",
     "text": [
      "WARNING:tensorflow:From C:\\Users\\ayses\\Anaconda3\\lib\\site-packages\\tensorflow\\python\\framework\\op_def_library.py:263: colocate_with (from tensorflow.python.framework.ops) is deprecated and will be removed in a future version.\n",
      "Instructions for updating:\n",
      "Colocations handled automatically by placer.\n",
      "_________________________________________________________________\n",
      "Layer (type)                 Output Shape              Param #   \n",
      "=================================================================\n",
      "conv1d_1 (Conv1D)            (None, 1200, 50)          200       \n",
      "_________________________________________________________________\n",
      "batch_normalization_1 (Batch (None, 1200, 50)          200       \n",
      "_________________________________________________________________\n",
      "activation_1 (Activation)    (None, 1200, 50)          0         \n",
      "_________________________________________________________________\n",
      "max_pooling1d_1 (MaxPooling1 (None, 1200, 50)          0         \n",
      "_________________________________________________________________\n",
      "conv1d_2 (Conv1D)            (None, 1200, 50)          2550      \n",
      "_________________________________________________________________\n",
      "batch_normalization_2 (Batch (None, 1200, 50)          200       \n",
      "_________________________________________________________________\n",
      "activation_2 (Activation)    (None, 1200, 50)          0         \n",
      "_________________________________________________________________\n",
      "max_pooling1d_2 (MaxPooling1 (None, 1200, 50)          0         \n",
      "_________________________________________________________________\n",
      "conv1d_3 (Conv1D)            (None, 1200, 50)          2550      \n",
      "_________________________________________________________________\n",
      "batch_normalization_3 (Batch (None, 1200, 50)          200       \n",
      "_________________________________________________________________\n",
      "activation_3 (Activation)    (None, 1200, 50)          0         \n",
      "_________________________________________________________________\n",
      "max_pooling1d_3 (MaxPooling1 (None, 1200, 50)          0         \n",
      "_________________________________________________________________\n",
      "flatten_1 (Flatten)          (None, 60000)             0         \n",
      "_________________________________________________________________\n",
      "dense_1 (Dense)              (None, 200)               12000200  \n",
      "_________________________________________________________________\n",
      "dense_2 (Dense)              (None, 1200)              241200    \n",
      "=================================================================\n",
      "Total params: 12,247,300\n",
      "Trainable params: 12,247,000\n",
      "Non-trainable params: 300\n",
      "_________________________________________________________________\n"
     ]
    }
   ],
   "source": [
    "model = Sequential()\n",
    "\n",
    "model.add(Conv1D(kernel_size = 3, filters = 50, input_shape=(1200,1), padding='same'))\n",
    "model.add(BatchNormalization())\n",
    "model.add(Activation('relu'))\n",
    "model.add(MaxPooling1D(1, padding='same'))\n",
    "\n",
    "#c2\n",
    "model.add(Conv1D(kernel_size = (1), filters = 50))\n",
    "model.add(BatchNormalization())\n",
    "model.add(Activation('relu'))\n",
    "model.add(MaxPooling1D(1, padding='same'))\n",
    "\n",
    "#c3\n",
    "model.add(Conv1D(kernel_size = (1), filters = 50))\n",
    "model.add(BatchNormalization())\n",
    "model.add(Activation('relu'))\n",
    "model.add(MaxPooling1D(1, padding='same'))\n",
    "\n",
    "model.add(Flatten())\n",
    "\n",
    "model.add(Dense(200, activation='relu'))\n",
    "model.add(Dense(1200, activation='softmax'))\n",
    "\n",
    "model.compile(loss='binary_crossentropy', optimizer='adam', metrics=['accuracy'])\n",
    "model.summary()\n"
   ]
  },
  {
   "cell_type": "code",
   "execution_count": null,
   "metadata": {},
   "outputs": [
    {
     "name": "stdout",
     "output_type": "stream",
     "text": [
      "running\n",
      "WARNING:tensorflow:From C:\\Users\\ayses\\Anaconda3\\lib\\site-packages\\tensorflow\\python\\ops\\math_ops.py:3066: to_int32 (from tensorflow.python.ops.math_ops) is deprecated and will be removed in a future version.\n",
      "Instructions for updating:\n",
      "Use tf.cast instead.\n",
      "Epoch 1/20\n",
      " - 145s - loss: 0.0931 - acc: 0.9821\n",
      "Epoch 2/20\n",
      " - 145s - loss: 0.0861 - acc: 0.9821\n",
      "Epoch 3/20\n"
     ]
    }
   ],
   "source": [
    "print(\"running\")\n",
    "#numpy.set_printoptions(threshold=sys.maxsize)\n",
    "\n",
    "#print(InputValues[0])\n",
    "#print(OutputValues[0])\n",
    "\n",
    "# Fit the model\n",
    "history = model.fit(InputValues, OutputValues, epochs=20, batch_size=10, verbose=2)\n",
    "\n",
    "\n",
    "# evaluate the model\n",
    "scores = model.evaluate(InputValues, OutputValues)\n",
    "print(\"\\nevaluate -> %s: %.2f%%\" % (model.metrics_names[1], scores[1]*100))\n",
    "\n"
   ]
  },
  {
   "cell_type": "code",
   "execution_count": null,
   "metadata": {},
   "outputs": [],
   "source": [
    "\n",
    "print(history.history.keys())\n",
    "\n",
    "pyplot.plot(history.history['acc'])\n",
    "pyplot.show()"
   ]
  },
  {
   "cell_type": "code",
   "execution_count": null,
   "metadata": {},
   "outputs": [],
   "source": [
    "#print(InputValues[0, 500:800])\n",
    "#print(OutputValues[0])"
   ]
  },
  {
   "cell_type": "code",
   "execution_count": null,
   "metadata": {},
   "outputs": [],
   "source": [
    "\n",
    "# calculate predictions\n",
    "predictions = model.predict(InputValues)\n",
    "\n",
    "# calculate predictions classes\n",
    "#predictions = model.predict_classes(InputValues)\n",
    "\n",
    "#print(predictions)\n",
    "\n",
    "# round predictions\n",
    "#rounded = [round(x[0]) for x in predictions]\n",
    "\n",
    "\n",
    "\n",
    "#show the inputs and predicted outputs\n",
    "index = 1\n",
    "for i in range(len(InputValues[index])):\n",
    "    print(\"%s X=%s Y=%s, Predicted=%d\" % (i, InputValues[index][i], OutputValues[index][i], predictions[index][i]*100))\n"
   ]
  },
  {
   "cell_type": "code",
   "execution_count": null,
   "metadata": {},
   "outputs": [],
   "source": [
    "result = numpy.zeros(shape=(85, 1200))\n",
    "print(result.shape)\n",
    "\n",
    "for j in range(len(predictions)):\n",
    "    for i in range(len(predictions[0])):\n",
    "        if predictions[j][i] * 100 > 1:\n",
    "            result[j][i] = 1\n",
    "        else:\n",
    "            result[j][i] = 0\n",
    "            \n",
    "numpy.savetxt(\"tez_predict_data.data\", result, fmt='%1d', delimiter='\\t', newline='\\n', header='', footer='', comments='# ', encoding=None)\n",
    "            \n"
   ]
  },
  {
   "cell_type": "code",
   "execution_count": null,
   "metadata": {
    "collapsed": true
   },
   "outputs": [],
   "source": [
    "\n",
    "index = 1\n",
    "for i in range(len(result[index])):\n",
    "    print(\"%s Prediction=%s Y=%s P=%s\" % (i, result[index][i], OutputValues[index][i], predictions[index][i]))"
   ]
  },
  {
   "cell_type": "code",
   "execution_count": null,
   "metadata": {
    "collapsed": true
   },
   "outputs": [],
   "source": []
  }
 ],
 "metadata": {
  "kernelspec": {
   "display_name": "Python 3",
   "language": "python",
   "name": "python3"
  },
  "language_info": {
   "codemirror_mode": {
    "name": "ipython",
    "version": 3
   },
   "file_extension": ".py",
   "mimetype": "text/x-python",
   "name": "python",
   "nbconvert_exporter": "python",
   "pygments_lexer": "ipython3",
   "version": "3.6.1"
  }
 },
 "nbformat": 4,
 "nbformat_minor": 2
}
